{
 "cells": [
  {
   "cell_type": "code",
   "execution_count": 1,
   "metadata": {},
   "outputs": [],
   "source": [
    "import matplotlib.pyplot as plt\n",
    "import numpy as np\n",
    "from scipy import interpolate\n",
    "\n",
    "%matplotlib inline"
   ]
  },
  {
   "cell_type": "markdown",
   "metadata": {},
   "source": [
    "## Ejercicio 1\n",
    " Escriba una función en Python que toma arreglos $X$ e $Y$ de los valores dados, y un valor $x$ obtiene el valor interpolado correspondiente $y = f(x)$."
   ]
  },
  {
   "cell_type": "markdown",
   "metadata": {},
   "source": [
    "### Lagrange"
   ]
  },
  {
   "cell_type": "code",
   "execution_count": 2,
   "metadata": {},
   "outputs": [],
   "source": [
    "def interpolar1(x, X, Y):\n",
    "    # Para cada j en [0,n]\n",
    "    # D = X[j] - X[X != X[j]] son las diferencias (xj - xk) para toda k  en [0,n] y k != j\n",
    "    # w = np.prod(D) es la multiplicatoria de las diferencias\n",
    "    # luego tomamos su inversa W = w^-1\n",
    "    w = [np.prod(X[j] - X[X != X[j]]) for j in range(len(X))]\n",
    "    W = np.power(np.array(w), -1)\n",
    "    \n",
    "    # diff = x - X es la diferencia x - xj para cada j en [0, n]\n",
    "    diff = x - X\n",
    "    \n",
    "    # Numerador\n",
    "    # W*Y/diff es calcular (wj * f(xj))/(x - xj) para cada j en [0, n]\n",
    "    # Luego realizamos la sumatoria entre estos valores\n",
    "    num = np.sum(W*Y / diff)\n",
    "    \n",
    "    # Denominador\n",
    "    # De la misma forma calculamos para el denominador W/diff \n",
    "    # equivalente a wj/(x - xj) para cada j en [0, n]\n",
    "    # y sumamos los valores\n",
    "    den = np.sum(W / diff)\n",
    "    \n",
    "    # finalmente retornamos la division\n",
    "    return num/den"
   ]
  },
  {
   "cell_type": "markdown",
   "metadata": {},
   "source": [
    "### Newton"
   ]
  },
  {
   "cell_type": "code",
   "execution_count": 3,
   "metadata": {},
   "outputs": [],
   "source": [
    "def interpolar2(x, X, Y):\n",
    "    # A es el arreglo de coeficientes, comienza con los valores de f(x)\n",
    "    A = list(Y)\n",
    "    \n",
    "    # Por cada \"nivel\" de diferencias\n",
    "    # Nos saltamos al primer nivel, ya que son los mismos valores de Y\n",
    "    for i in range(1, len(A)):\n",
    "        # Por cada Coeficiente\n",
    "        # Los menores a i ya están en su valor definitivo\n",
    "        \n",
    "        # Vamos de atrás hacia adelanta para que al actualizar\n",
    "        # los valores de A[j], los valores modicados no son usados\n",
    "        # en la misma iteración sobre 'i'.\n",
    "        for j in range(len(A)-1, i-1, -1):\n",
    "            # A[j] - A[j - 1] es la diferencia de f[] - f[]\n",
    "            # X[j] - X[j-i] es la diferencia de x_ - x_ \n",
    "            A[j] = (A[j] - A[j - 1]) / (X[j] - X[j-i])\n",
    "    \n",
    "    # Valor que multiplica a los coeficientes A_i. (x-x0)*(x-x1)...\n",
    "    x_diff = 1\n",
    "    y = A[0] * x_diff\n",
    "    \n",
    "    # Por cada coeficiente (desde A_1) \n",
    "    for i in range(0, len(X)-1):\n",
    "        # Cada iteracion multiplica la diferencia de x con un nuevo \n",
    "        # x de la tabla, luego lo multiplica por el coeficiente\n",
    "        x_diff *= (x - X[i])\n",
    "        y += A[i+1] * x_diff\n",
    "    return y"
   ]
  },
  {
   "cell_type": "markdown",
   "metadata": {},
   "source": [
    "### Pruebas"
   ]
  },
  {
   "cell_type": "code",
   "execution_count": 4,
   "metadata": {},
   "outputs": [
    {
     "data": {
      "image/png": "[encoded data removed]",
      "text/plain": [
       "<matplotlib.figure.Figure at 0x7f76b2600198>"
      ]
     },
     "metadata": {},
     "output_type": "display_data"
    }
   ],
   "source": [
    "X = np.linspace(-2*np.pi, 2*np.pi, 500)\n",
    "Y = np.cos(X) + 2*np.sin(X) + 0.5*X\n",
    "\n",
    "plt.plot(X,Y)\n",
    "plt.show()"
   ]
  },
  {
   "cell_type": "markdown",
   "metadata": {},
   "source": [
    "#### Con pocos puntos"
   ]
  },
  {
   "cell_type": "code",
   "execution_count": 5,
   "metadata": {},
   "outputs": [],
   "source": [
    "X = np.linspace(-2*np.pi, 2*np.pi, 5)\n",
    "Y = np.cos(X) + 2*np.sin(X) + 0.5*X"
   ]
  },
  {
   "cell_type": "code",
   "execution_count": 6,
   "metadata": {},
   "outputs": [
    {
     "name": "stdout",
     "output_type": "stream",
     "text": [
      "10000 loops, best of 3: 49.3 µs per loop\n"
     ]
    }
   ],
   "source": [
    "%timeit interpolar1(0.5, X, Y)"
   ]
  },
  {
   "cell_type": "code",
   "execution_count": 7,
   "metadata": {},
   "outputs": [
    {
     "name": "stdout",
     "output_type": "stream",
     "text": [
      "100000 loops, best of 3: 9.43 µs per loop\n"
     ]
    }
   ],
   "source": [
    "%timeit interpolar2(0.5, X, Y) "
   ]
  },
  {
   "cell_type": "code",
   "execution_count": 8,
   "metadata": {},
   "outputs": [
    {
     "name": "stdout",
     "output_type": "stream",
     "text": [
      "Error Lagrange: 1265.5044067\n",
      "Error Newton: 1265.5044067\n",
      "Error L/N 1.0\n"
     ]
    }
   ],
   "source": [
    "nX = np.linspace(-2*np.pi-0.1, 2*np.pi-0.1,num=500)\n",
    "nY = np.cos(nX) + 2*np.sin(nX) + 0.5*nX\n",
    "mY = np.array([interpolar1(x, X, Y) for x in nX if x not in X])\n",
    "lY = np.array([interpolar2(x, X, Y) for x in nX if x not in X])\n",
    "\n",
    "print(\"Error Lagrange:\",np.sum(np.abs((nY-mY)/nY)))\n",
    "print(\"Error Newton:\", np.sum(np.abs((nY-lY)/nY)))\n",
    "print(\"Error L/N\", np.sum(np.abs((nY-mY)/nY)) / np.sum(np.abs((nY-lY)/nY)))"
   ]
  },
  {
   "cell_type": "markdown",
   "metadata": {},
   "source": [
    "#### Con muchos puntos"
   ]
  },
  {
   "cell_type": "code",
   "execution_count": 9,
   "metadata": {},
   "outputs": [],
   "source": [
    "X = np.linspace(-2*np.pi, 2*np.pi, 50)\n",
    "Y = np.cos(X) + 2*np.sin(X) + 0.5*X"
   ]
  },
  {
   "cell_type": "code",
   "execution_count": 10,
   "metadata": {},
   "outputs": [
    {
     "name": "stdout",
     "output_type": "stream",
     "text": [
      "The slowest run took 4.82 times longer than the fastest. This could mean that an intermediate result is being cached.\n",
      "1000 loops, best of 3: 337 µs per loop\n"
     ]
    }
   ],
   "source": [
    "%timeit interpolar1(.5, X, Y)"
   ]
  },
  {
   "cell_type": "code",
   "execution_count": 11,
   "metadata": {},
   "outputs": [
    {
     "name": "stdout",
     "output_type": "stream",
     "text": [
      "1000 loops, best of 3: 513 µs per loop\n"
     ]
    }
   ],
   "source": [
    "%timeit interpolar2(.5, X, Y) "
   ]
  },
  {
   "cell_type": "code",
   "execution_count": 12,
   "metadata": {},
   "outputs": [
    {
     "name": "stdout",
     "output_type": "stream",
     "text": [
      "Error Lagrange: 0.0139270066805\n",
      "Error Newton: 0.000109228685918\n",
      "Error L/N 127.5031972\n"
     ]
    }
   ],
   "source": [
    "nX = np.linspace(-2*np.pi-0.1, 2*np.pi-0.1,num=500)\n",
    "nY = np.cos(nX) + 2*np.sin(nX) + 0.5*nX\n",
    "mY = np.array([interpolar1(x, X, Y) for x in nX if x not in X]) \n",
    "lY = np.array([interpolar2(x, X, Y) for x in nX if x not in X]) \n",
    "\n",
    "print(\"Error Lagrange:\",np.sum(np.abs((nY-mY)/nY)))\n",
    "print(\"Error Newton:\", np.sum(np.abs((nY-lY)/nY)))\n",
    "print(\"Error L/N\", np.sum(np.abs((nY-mY)/nY)) / np.sum(np.abs((nY-lY)/nY)))"
   ]
  },
  {
   "cell_type": "markdown",
   "metadata": {},
   "source": [
    "### Usando los puntos del ejercicio"
   ]
  },
  {
   "cell_type": "code",
   "execution_count": 13,
   "metadata": {},
   "outputs": [],
   "source": [
    "X = np.array([-1.000, -.600, -.467, -.200, -.067])\n",
    "Y = np.array([  .038,  .100,  .155,  .500,  .900])"
   ]
  },
  {
   "cell_type": "code",
   "execution_count": 14,
   "metadata": {},
   "outputs": [
    {
     "data": {
      "image/png": "[encoded data removed]",
      "text/plain": [
       "<matplotlib.figure.Figure at 0x7f7680634588>"
      ]
     },
     "metadata": {},
     "output_type": "display_data"
    }
   ],
   "source": [
    "nX = np.linspace(-.999,-.068)\n",
    "\n",
    "mY = np.array([interpolar1(x, X, Y) for x in nX if x not in X]) \n",
    "lY = np.array([interpolar2(x, X, Y) for x in nX if x not in X]) \n",
    "plt.figure(figsize=(8, 4))\n",
    "plt.plot(X,Y, \"*\", nX, mY, \"-\", nX, lY, \"--\")\n",
    "plt.xlabel(\"x\")\n",
    "plt.ylabel(\"y\")\n",
    "plt.legend([\"Puntos\",  \"lagrange\", \"newton\"])\n",
    "plt.savefig('interpolacion1.png', bbox_inches='tight')\n",
    "plt.show()"
   ]
  },
  {
   "cell_type": "markdown",
   "metadata": {},
   "source": [
    "## Ejercicio 2\n",
    "\n",
    "Escriba una función Python que implementa el método de la secante, dada lafunción f, puntos iniciales $x_0$ y $x_1$ y una tolerancia"
   ]
  },
  {
   "cell_type": "code",
   "execution_count": 15,
   "metadata": {},
   "outputs": [],
   "source": [
    "def secMethod(f, x0, x1, epsilon):\n",
    "    x2 = x1\n",
    "    iterations = 0\n",
    "    while abs(f(x2)) > epsilon and iterations < 1E6:\n",
    "        # Metodo de la secante\n",
    "        f0 = f(x0)\n",
    "        f1 = f(x1)\n",
    "        x2 = x1 - (f1*(x1 - x0))/(f1 - f0)\n",
    "        \n",
    "        # Contamos las iteraciones para no entrar en un bucle infinito\n",
    "        iterations += 1\n",
    "        \n",
    "        # Actualizamos los valores\n",
    "        x0, x1 = x1, x2\n",
    "    return x2"
   ]
  },
  {
   "cell_type": "code",
   "execution_count": 16,
   "metadata": {},
   "outputs": [
    {
     "data": {
      "text/plain": [
       "-1.687538997430238e-14"
      ]
     },
     "execution_count": 16,
     "metadata": {},
     "output_type": "execute_result"
    }
   ],
   "source": [
    "xs = secMethod(lambda x: x**3 + 2, 0, 3, 1E-10)\n",
    "xs**3 + 2"
   ]
  },
  {
   "cell_type": "markdown",
   "metadata": {},
   "source": [
    "## Ejercicio 3\n",
    "Use las anteriores para aproximar $f^{-1}(0.3)$"
   ]
  },
  {
   "cell_type": "code",
   "execution_count": 17,
   "metadata": {},
   "outputs": [
    {
     "data": {
      "image/png": "[encoded data removed]",
      "text/plain": [
       "<matplotlib.figure.Figure at 0x7f76b26329b0>"
      ]
     },
     "metadata": {},
     "output_type": "display_data"
    }
   ],
   "source": [
    "f = interpolate.BarycentricInterpolator(X, Y)\n",
    "\n",
    "nX = np.linspace(-1.001,-0.06701,num=100)\n",
    "nY = f(nX)\n",
    "\n",
    "mY = np.ones(nX.shape) * 0.3\n",
    "\n",
    "plt.figure(figsize=(8, 4))\n",
    "plt.plot(X,Y, \"*\", nX,nY, \"-\", nX, mY, \"--\")\n",
    "plt.legend([\"Puntos\", \"interpolacion\", \"y = 0.3\"])\n",
    "plt.xlabel(\"x\")\n",
    "plt.ylabel(\"y\")\n",
    "plt.savefig('intercepcion.png', bbox_inches='tight')\n",
    "plt.show()"
   ]
  },
  {
   "cell_type": "code",
   "execution_count": 18,
   "metadata": {},
   "outputs": [
    {
     "data": {
      "text/plain": [
       "-0.31190496815431695"
      ]
     },
     "execution_count": 18,
     "metadata": {},
     "output_type": "execute_result"
    }
   ],
   "source": [
    "g = lambda x:  interpolar2(x, X, Y) - 0.3\n",
    "#g = lambda x: f(x) - 0.3\n",
    "secMethod(g, -0.468, -0.19, 1E-10)"
   ]
  },
  {
   "cell_type": "markdown",
   "metadata": {},
   "source": [
    "## Ejercicio 4\n",
    "Otra forma de hacerlo es considerar $x$ una función de $y$, usando interpolación inversa. Use sus funciones con esta idea para aproximar $f^{-1}(0.3)$"
   ]
  },
  {
   "cell_type": "code",
   "execution_count": 19,
   "metadata": {},
   "outputs": [
    {
     "data": {
      "image/png": "[encoded data removed]",
      "text/plain": [
       "<matplotlib.figure.Figure at 0x7f768048e160>"
      ]
     },
     "metadata": {},
     "output_type": "display_data"
    }
   ],
   "source": [
    "invf_baricentric = interpolate.BarycentricInterpolator(Y, X)\n",
    "invf_interp1d = interpolate.interp1d(Y, X)\n",
    "invf = interpolar2\n",
    "\n",
    "#Interpolarcion\n",
    "nY = np.linspace(0.0381,0.89,num=100)\n",
    "# Interpolation 1d\n",
    "nX = np.array([invf_interp1d(y) for y in nY if y not in Y]) \n",
    "# Interpolation baricentric\n",
    "lX = np.array([invf_baricentric(y) for y in nY if y not in Y]) \n",
    "# Interpolation \n",
    "pX = np.array([invf(y, Y, X) for y in nY if y not in Y]) \n",
    "#pX = np.array([Eval(coef(Y, X), Y, y) for y in nY if y not in Y]) \n",
    "\n",
    "\n",
    "#Vertical Line\n",
    "mX = np.linspace(-1,0,num=100)\n",
    "mY = np.ones(mX.shape) * 0.3\n",
    "\n",
    "\n",
    "plt.figure(figsize=(8, 4))\n",
    "#plt.plot(Y,X, \"*\",mY, mX, \"--\",nY, nX, \"-\", nY, lX, nY, pX)\n",
    "plt.plot(Y,X, \"*\",mY, mX, \"--\", nY, pX)\n",
    "#plt.legend([\"Puntos\", \"y = 0.3\", \"interp1d\", \"BarycentricInterpolator\", \"interpolar\"])\n",
    "plt.xlabel(\"y\")\n",
    "plt.ylabel(\"x\")\n",
    "plt.legend([\"Puntos\", \"y = 0.3\", \"interpolar\"])\n",
    "plt.savefig('interpolacioninversa.png', bbox_inches='tight')\n",
    "plt.show()"
   ]
  },
  {
   "cell_type": "code",
   "execution_count": 20,
   "metadata": {},
   "outputs": [
    {
     "data": {
      "text/plain": [
       "-0.50864947547118666"
      ]
     },
     "execution_count": 20,
     "metadata": {},
     "output_type": "execute_result"
    }
   ],
   "source": [
    "invf(0.3, Y,X)"
   ]
  }
 ],
 "metadata": {
  "kernelspec": {
   "display_name": "Python 3",
   "language": "python",
   "name": "python3"
  },
  "language_info": {
   "codemirror_mode": {
    "name": "ipython",
    "version": 3
   },
   "file_extension": ".py",
   "mimetype": "text/x-python",
   "name": "python",
   "nbconvert_exporter": "python",
   "pygments_lexer": "ipython3",
   "version": "3.6.1"
  }
 },
 "nbformat": 4,
 "nbformat_minor": 2
}
