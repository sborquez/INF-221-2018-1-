{
 "cells": [
  {
   "cell_type": "code",
   "execution_count": 1,
   "metadata": {},
   "outputs": [],
   "source": [
    "import matplotlib.pyplot as plt\n",
    "import numpy as np\n",
    "from scipy import interpolate\n",
    "\n",
    "#%matplotlib inline"
   ]
  },
  {
   "cell_type": "code",
   "execution_count": 2,
   "metadata": {},
   "outputs": [],
   "source": [
    "X = np.array([-1.000, -.600, -.467, -.200, -.067])\n",
    "Y = np.array([  .038,  .100,  .155,  .500,  .900])"
   ]
  },
  {
   "cell_type": "markdown",
   "metadata": {},
   "source": [
    "## Ejercicio 1\n",
    " Escriba una función en Python que toma arreglos $X$ e $Y$ de los valores dados, y un valor $x$ obtiene el valor interpolado correspondiente $y = f(x)$."
   ]
  },
  {
   "cell_type": "code",
   "execution_count": 3,
   "metadata": {},
   "outputs": [],
   "source": [
    "def interpolar(x, X, Y):\n",
    "    # Para cada j en [0,n]\n",
    "    # D = X[j] - X[X != X[j]] son las diferencias (xj - xk) para toda k  en [0,n] y k != j\n",
    "    # w = np.prod(D) es la multiplicatoria de las diferencias\n",
    "    # luego tomamos su inversa W = w^-1\n",
    "    w = [np.prod(X[j] - X[X != X[j]]) for j in range(len(X))]\n",
    "    W = np.power(np.array(w), -1)\n",
    "    \n",
    "    # diff = x - X es la diferencia x - xj para cada j en [0, n]\n",
    "    diff = x - X\n",
    "    \n",
    "    # Numerador\n",
    "    # W*Y/diff es calcular (wj * f(xj))/(x - xj) para cada j en [0, n]\n",
    "    # Luego realizamos la sumatoria entre estos valores\n",
    "    num = np.sum(W*Y / diff)\n",
    "    \n",
    "    # Denominador\n",
    "    # De la misma forma calculamos para el denominador W/diff \n",
    "    # equivalente a wj/(x - xj) para cada j en [0, n]\n",
    "    # y sumamos los valores\n",
    "    den = np.sum(W / diff)\n",
    "    \n",
    "    # finalmente retornamos la division\n",
    "    return num/den\n"
   ]
  },
  {
   "cell_type": "code",
   "execution_count": 24,
   "metadata": {},
   "outputs": [
    {
     "name": "stdout",
     "output_type": "stream",
     "text": [
      "The slowest run took 23.58 times longer than the fastest. This could mean that an intermediate result is being cached.\n",
      "100000 loops, best of 3: 13.7 µs per loop\n"
     ]
    }
   ],
   "source": [
    "%timeit lY = Eval(coef(X, Y), X, -0.3)"
   ]
  },
  {
   "cell_type": "code",
   "execution_count": 25,
   "metadata": {},
   "outputs": [
    {
     "name": "stdout",
     "output_type": "stream",
     "text": [
      "10000 loops, best of 3: 47 µs per loop\n"
     ]
    }
   ],
   "source": [
    "%timeit mY = F(-0.3, X, Y) "
   ]
  },
  {
   "cell_type": "code",
   "execution_count": 26,
   "metadata": {},
   "outputs": [
    {
     "name": "stdout",
     "output_type": "stream",
     "text": [
      "The slowest run took 5.13 times longer than the fastest. This could mean that an intermediate result is being cached.\n",
      "10000 loops, best of 3: 31.5 µs per loop\n"
     ]
    }
   ],
   "source": [
    "%timeit nY = f(nX)"
   ]
  },
  {
   "cell_type": "code",
   "execution_count": 23,
   "metadata": {},
   "outputs": [
    {
     "data": {
      "image/png": "[encoded data removed]",
      "text/plain": [
       "<matplotlib.figure.Figure at 0x7fb8dddc3ef0>"
      ]
     },
     "metadata": {},
     "output_type": "display_data"
    }
   ],
   "source": [
    "f = interpolate.BarycentricInterpolator(X, Y)\n",
    "F = interpolar\n",
    "\n",
    "nX = np.linspace(-1.001,-0.06701,num=100)\n",
    "nY = f(nX)\n",
    "\n",
    "mY = np.array([F(x, X, Y) for x in nX if x not in X]) \n",
    "lY = np.array([Eval(coef(X, Y), X, x) for x in nX if x not in X])\n",
    "plt.figure(figsize=(8, 4))\n",
    "plt.plot(X,Y, \"*\", nX,nY, \"-\", nX, mY, \"--\", nX, lY, \"--\")\n",
    "plt.legend([\"Puntos\", \"Scipy\", \"lagrange\", \"newton\"])\n",
    "plt.show()"
   ]
  },
  {
   "cell_type": "code",
   "execution_count": 9,
   "metadata": {},
   "outputs": [
    {
     "data": {
      "text/plain": [
       "array([ 0.038     ,  0.155     ,  0.4850541 ,  2.13931049,  1.91378641])"
      ]
     },
     "execution_count": 9,
     "metadata": {},
     "output_type": "execute_result"
    }
   ],
   "source": [
    "def coef(x, y):\n",
    "    '''x : array of data points\n",
    "       y : array of f(x)  '''\n",
    "    n = len(x)\n",
    "    a = list(y)\n",
    "\n",
    "    for j in range(1, n):\n",
    "\n",
    "        for i in range(n-1, j-1, -1):\n",
    "            a[i] = (a[i]-a[i-1])/(x[i]-x[i-j])\n",
    "\n",
    "    return np.array(a) # return an array of coefficient\n",
    "\n",
    "def Eval(a, x, r):\n",
    "    n = len( a ) - 1\n",
    "    temp = a[n]\n",
    "    for i in range( n - 1, -1, -1 ):\n",
    "        temp = temp * ( r - x[i] ) + a[i]\n",
    "    return temp # return the y_value interpolation\n",
    "\n"
   ]
  },
  {
   "cell_type": "markdown",
   "metadata": {},
   "source": [
    "## Ejercicio 2\n",
    "\n",
    "Escriba una función Python que implementa el método de la secante, dada lafunción f, puntos iniciales $x_0$ y $x_1$ y una tolerancia"
   ]
  },
  {
   "cell_type": "code",
   "execution_count": 2,
   "metadata": {},
   "outputs": [],
   "source": [
    "def secMethod(f, x0, x1, epsilon):\n",
    "    x2 = x1\n",
    "    iterations = 0\n",
    "    while abs(f(x2)) > epsilon and iterations < 1E6:\n",
    "        # Metodo de la secante\n",
    "        f0 = f(x0)\n",
    "        f1 = f(x1)\n",
    "        x2 = x1 - (f1*(x1 - x0))/(f1 - f0)\n",
    "        \n",
    "        # Contamos las iteraciones para no entrar en un bucle infinito\n",
    "        iterations += 1\n",
    "        \n",
    "        # Actualizamos los valores\n",
    "        x0, x1 = x1, x2\n",
    "    return x2"
   ]
  },
  {
   "cell_type": "code",
   "execution_count": 6,
   "metadata": {},
   "outputs": [
    {
     "data": {
      "text/plain": [
       "-1.687538997430238e-14"
      ]
     },
     "execution_count": 6,
     "metadata": {},
     "output_type": "execute_result"
    }
   ],
   "source": [
    "xs = secMethod(lambda x: x**3 + 2, 0, 3, 1E-10)\n",
    "xs**3 + 2"
   ]
  },
  {
   "cell_type": "markdown",
   "metadata": {},
   "source": [
    "## Ejercicio 3\n",
    "Use las anteriores para aproximar $f^{-1}(0.3)$"
   ]
  },
  {
   "cell_type": "code",
   "execution_count": 10,
   "metadata": {},
   "outputs": [
    {
     "data": {
      "image/png": "[encoded data removed]",
      "text/plain": [
       "<matplotlib.figure.Figure at 0x7fe67fff32e8>"
      ]
     },
     "metadata": {},
     "output_type": "display_data"
    }
   ],
   "source": [
    "f = interpolate.BarycentricInterpolator(X, Y)\n",
    "\n",
    "nX = np.linspace(-1.001,-0.06701,num=100)\n",
    "nY = f(nX)\n",
    "\n",
    "mY = np.ones(nX.shape) * 0.3\n",
    "\n",
    "plt.figure(figsize=(8, 4))\n",
    "plt.plot(X,Y, \"*\", nX,nY, \"-\", nX, mY, \"--\")\n",
    "plt.legend([\"Puntos\", \"interpolacion\", \"y = 0.3\"])\n",
    "plt.xlabel(\"x\")\n",
    "plt.ylabel(\"y\")\n",
    "plt.savefig('intercepcion.png', bbox_inches='tight')\n",
    "plt.show()"
   ]
  },
  {
   "cell_type": "code",
   "execution_count": 9,
   "metadata": {},
   "outputs": [
    {
     "data": {
      "text/plain": [
       "-0.31190496815431701"
      ]
     },
     "execution_count": 9,
     "metadata": {},
     "output_type": "execute_result"
    }
   ],
   "source": [
    "g = lambda x:  interpolar(x, X, Y) - 0.3\n",
    "#g = lambda x: f(x) - 0.3\n",
    "secMethod(g, -0.468, -0.19, 1E-10)"
   ]
  },
  {
   "cell_type": "markdown",
   "metadata": {},
   "source": [
    "## Ejercicio 4\n",
    "Otra forma de hacerlo es considerar $x$ una función de $y$, usando interpolación inversa. Use sus funciones con esta idea para aproximar $f^{-1}(0.3)$"
   ]
  },
  {
   "cell_type": "code",
   "execution_count": 9,
   "metadata": {},
   "outputs": [
    {
     "data": {
      "image/png": "[encoded data removed]",
      "text/plain": [
       "<matplotlib.figure.Figure at 0x7fe6801a5160>"
      ]
     },
     "metadata": {},
     "output_type": "display_data"
    },
    {
     "data": {
      "image/png": "[encoded data removed]",
      "text/plain": [
       "<matplotlib.figure.Figure at 0x7fe67fff3f98>"
      ]
     },
     "metadata": {},
     "output_type": "display_data"
    }
   ],
   "source": [
    "invf_baricentric = interpolate.BarycentricInterpolator(Y, X)\n",
    "invf_interp1d = interpolate.interp1d(Y, X)\n",
    "invf = interpolar\n",
    "\n",
    "#Interpolarcion\n",
    "nY = np.linspace(0.0381,0.89,num=100)\n",
    "# Interpolation 1d\n",
    "nX = np.array([invf_interp1d(y) for y in nY if y not in Y]) \n",
    "# Interpolation baricentric\n",
    "lX = np.array([invf_baricentric(y) for y in nY if y not in Y]) \n",
    "# Interpolation \n",
    "pX = np.array([invf(y, Y, X) for y in nY if y not in Y]) \n",
    "#pX = np.array([Eval(coef(Y, X), Y, y) for y in nY if y not in Y]) \n",
    "\n",
    "\n",
    "#Vertical Line\n",
    "mX = np.linspace(-1,0,num=100)\n",
    "mY = np.ones(mX.shape) * 0.3\n",
    "\n",
    "\n",
    "plt.figure(figsize=(8, 4))\n",
    "#plt.plot(Y,X, \"*\",mY, mX, \"--\",nY, nX, \"-\", nY, lX, nY, pX)\n",
    "plt.plot(Y,X, \"*\",mY, mX, \"--\", nY, pX)\n",
    "#plt.legend([\"Puntos\", \"y = 0.3\", \"interp1d\", \"BarycentricInterpolator\", \"interpolar\"])\n",
    "plt.xlabel(\"y\")\n",
    "plt.ylabel(\"x\")\n",
    "plt.legend([\"Puntos\", \"y = 0.3\", \"interpolar\"])\n",
    "plt.savefig('interpolacioninversa.png', bbox_inches='tight')\n",
    "plt.show()"
   ]
  },
  {
   "cell_type": "code",
   "execution_count": 12,
   "metadata": {},
   "outputs": [
    {
     "data": {
      "text/plain": [
       "-0.50864947547118655"
      ]
     },
     "execution_count": 12,
     "metadata": {},
     "output_type": "execute_result"
    }
   ],
   "source": [
    "invf(0.3, Y,X)"
   ]
  }
 ],
 "metadata": {
  "kernelspec": {
   "display_name": "Python 3",
   "language": "python",
   "name": "python3"
  },
  "language_info": {
   "codemirror_mode": {
    "name": "ipython",
    "version": 3
   },
   "file_extension": ".py",
   "mimetype": "text/x-python",
   "name": "python",
   "nbconvert_exporter": "python",
   "pygments_lexer": "ipython3",
   "version": "3.6.1"
  }
 },
 "nbformat": 4,
 "nbformat_minor": 2
}
